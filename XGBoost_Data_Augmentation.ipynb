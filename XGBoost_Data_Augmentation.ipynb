{
 "cells": [
  {
   "cell_type": "code",
   "execution_count": 1,
   "id": "c0a33e46",
   "metadata": {
    "scrolled": true
   },
   "outputs": [
    {
     "name": "stdout",
     "output_type": "stream",
     "text": [
      "Requirement already satisfied: xgboost in /opt/conda/lib/python3.10/site-packages (2.1.3)\n",
      "Requirement already satisfied: numpy in /opt/conda/lib/python3.10/site-packages (from xgboost) (1.24.4)\n",
      "Requirement already satisfied: nvidia-nccl-cu12 in /opt/conda/lib/python3.10/site-packages (from xgboost) (2.23.4)\n",
      "Requirement already satisfied: scipy in /opt/conda/lib/python3.10/site-packages (from xgboost) (1.10.1)\n",
      "Requirement already satisfied: lightgbm in /opt/conda/lib/python3.10/site-packages (4.5.0)\n",
      "Requirement already satisfied: numpy>=1.17.0 in /opt/conda/lib/python3.10/site-packages (from lightgbm) (1.24.4)\n",
      "Requirement already satisfied: scipy in /opt/conda/lib/python3.10/site-packages (from lightgbm) (1.10.1)\n"
     ]
    }
   ],
   "source": [
    "!pip install xgboost\n",
    "!pip install lightgbm\n",
    "\n",
    "import pandas as pd\n",
    "import numpy as np\n",
    "\n",
    "# Model importation \n",
    "import xgboost as xgb\n",
    "from sklearn.ensemble import ExtraTreesClassifier\n",
    "import lightgbm as lgb\n",
    "from sklearn.ensemble import RandomForestClassifier\n",
    "\n",
    "\n",
    "# Data processing\n",
    "from sklearn.preprocessing import LabelEncoder\n",
    "from sklearn.impute import SimpleImputer\n",
    "\n",
    "# Prediction scores\n",
    "from sklearn.metrics import accuracy_score\n",
    "from sklearn.metrics import f1_score\n",
    "\n",
    "pd.set_option('display.max_rows', None)\n",
    "pd.set_option('display.max_columns', None)"
   ]
  },
  {
   "cell_type": "code",
   "execution_count": 2,
   "id": "7ea01959",
   "metadata": {},
   "outputs": [],
   "source": [
    "path_train = \"~/hfactory_magic_folders/water_shortage_prediction/X_train_Hi5.csv\"\n",
    "path_test = \"~/hfactory_magic_folders/water_shortage_prediction/X_test_Hi5.csv\""
   ]
  },
  {
   "cell_type": "code",
   "execution_count": 3,
   "id": "c7a2bac7",
   "metadata": {},
   "outputs": [],
   "source": [
    "df = pd.read_csv(path_train, low_memory = False)"
   ]
  },
  {
   "cell_type": "code",
   "execution_count": 4,
   "id": "72fc620c",
   "metadata": {},
   "outputs": [],
   "source": [
    "# Convert the column 'piezo_measurement_date' into datetime\n",
    "df['piezo_measurement_date'] = pd.to_datetime(df['piezo_measurement_date'])\n",
    "\n",
    "# Add columns for year, month, season \n",
    "df['year'] = df['piezo_measurement_date'].dt.year\n",
    "df['month'] = df['piezo_measurement_date'].dt.month\n",
    "df['season'] = df['month'].map({\n",
    "    12: 'Winter', 1: 'Winter', 2: 'Winter',\n",
    "    3: 'Spring', 4: 'Spring', 5: 'Spring',\n",
    "    6: 'Summer', 7: 'Summer', 8: 'Summer',\n",
    "    9: 'Summer', 10: 'Autumn', 11: 'Autumn'\n",
    "})"
   ]
  },
  {
   "cell_type": "code",
   "execution_count": 5,
   "id": "a5338ae4",
   "metadata": {},
   "outputs": [],
   "source": [
    "numerical_columns = [\n",
    "    'piezo_station_altitude', 'piezo_station_investigation_depth', 'meteo_evapotranspiration_grid',\n",
    "    'meteo_cloudiness_height', 'meteo_wind_speed_avg_2m', 'meteo_temperature_avg',\n",
    "    'meteo_humidity_avg', 'meteo_rain_height'\n",
    "]\n",
    "\n",
    "for column in numerical_columns:\n",
    "    for i in range(1, 2):  \n",
    "        new_name = f'prev_{i}_{column}'  \n",
    "        df[new_name] = df[column].shift(i) \n"
   ]
  },
  {
   "cell_type": "code",
   "execution_count": 6,
   "id": "6c8bc587",
   "metadata": {},
   "outputs": [
    {
     "data": {
      "text/plain": [
       "'\\nseuil = 0.8\\ncols_to_drop = df.columns[(df.isna().sum() / len(df)) > seuil]\\ndf.drop(columns=cols_to_drop, inplace=True)\\n'"
      ]
     },
     "execution_count": 6,
     "metadata": {},
     "output_type": "execute_result"
    }
   ],
   "source": [
    "seuil = 0.8\n",
    "cols_to_drop = df.columns[(df.isna().sum() / len(df)) > seuil]\n",
    "df.drop(columns=cols_to_drop, inplace=True)\n",
    "#dropping was bad"
   ]
  },
  {
   "cell_type": "code",
   "execution_count": 7,
   "id": "a030f573",
   "metadata": {},
   "outputs": [],
   "source": [
    "custom_mapping = {\n",
    "    'Very Low': 0,\n",
    "    'Low': 1,\n",
    "    'Average': 2,\n",
    "    'High': 3,\n",
    "    'Very High': 4\n",
    "}\n",
    "reverse_mapping = {\n",
    "    0: 'Very Low',\n",
    "    1: 'Low',\n",
    "    2: 'Average',\n",
    "    3: 'High',\n",
    "    4: 'Very High'\n",
    "}"
   ]
  },
  {
   "cell_type": "code",
   "execution_count": 8,
   "id": "e4a78302",
   "metadata": {},
   "outputs": [],
   "source": [
    "# categorical_columns =  df.select_dtypes(include=['object'])\n",
    "# for col in categorical_columns:\n",
    "#     le = LabelEncoder()\n",
    "#     df[col] = le.fit_transform(df[col])"
   ]
  },
  {
   "cell_type": "code",
   "execution_count": 9,
   "id": "03534e26",
   "metadata": {},
   "outputs": [],
   "source": [
    "# Define the train and test set \n",
    "data_before_2022 = df[((df['year'] == 2020) | (df['year'] == 2021))]\n",
    "\n",
    "X_train = data_before_2022[data_before_2022['piezo_measurement_date'] < '2021-06-01']\n",
    "X_train = X_train.select_dtypes(exclude=['object'])\n",
    "X_train.drop(columns = [\"piezo_measurement_date\"],inplace = True)\n",
    "# X_train.drop(columns = [\"piezo_groundwater_level_category\"],inplace = True)\n",
    "\n",
    "X_test = data_before_2022[(data_before_2022['piezo_measurement_date'] >= '2021-06-01')  & (data_before_2022['piezo_measurement_date'] < '2021-10-01')]\n",
    "X_test = X_test.select_dtypes(exclude=['object'])\n",
    "X_test.drop(columns = [\"piezo_measurement_date\"],inplace = True)\n",
    "# X_test.drop(columns = [\"piezo_groundwater_level_category\"],inplace = True)\n",
    "\n",
    "y_train = data_before_2022[data_before_2022['piezo_measurement_date'] < '2021-06-01'][\"piezo_groundwater_level_category\"]\n",
    "y_test =  data_before_2022[(data_before_2022['piezo_measurement_date'] >= '2021-06-01') & (data_before_2022['piezo_measurement_date'] < '2021-10-01')][\"piezo_groundwater_level_category\"]"
   ]
  },
  {
   "cell_type": "code",
   "execution_count": 10,
   "id": "6197bc9e",
   "metadata": {},
   "outputs": [],
   "source": [
    "y_train = y_train.map(custom_mapping)\n",
    "y_test = y_test.map(custom_mapping)"
   ]
  },
  {
   "cell_type": "code",
   "execution_count": 11,
   "id": "9a6e53d1",
   "metadata": {},
   "outputs": [
    {
     "data": {
      "text/plain": [
       "0    3\n",
       "1    4\n",
       "2    3\n",
       "3    4\n",
       "4    0\n",
       "Name: piezo_groundwater_level_category, dtype: int64"
      ]
     },
     "execution_count": 11,
     "metadata": {},
     "output_type": "execute_result"
    }
   ],
   "source": [
    "# print(f\"Nombre de NaN : {np.isnan(y_train).sum()}\")\n",
    "# print(f\"Nombre de NaN : {np.isnan(y_test).sum()}\")\n",
    "y_train.head()"
   ]
  },
  {
   "cell_type": "code",
   "execution_count": 12,
   "id": "bd062f05",
   "metadata": {},
   "outputs": [],
   "source": [
    "#XGBClassifier\n",
    "# model = xgb.XGBClassifier(use_label_encoder=False, eval_metric='mlogloss')\n",
    "# model.fit(X_train, y_train)\n",
    "\n",
    "# y_pred = model.predict(X_test)\n",
    "# y_pred_labels = pd.Series(y_pred).map(reverse_mapping)\n",
    "# print(y_pred_labels.shape)\n",
    "\n",
    "# y_test_labels = y_test.map(reverse_mapping)\n",
    "# print(y_test_labels.shape)\n",
    "# # Compute the F1 Score\n",
    "\n",
    "# f1 = f1_score(y_test_labels, y_pred_labels, average='weighted')\n",
    "# print(f\"F1-Score (weighted): {f1:.4f}\")"
   ]
  },
  {
   "cell_type": "code",
   "execution_count": 13,
   "id": "aeebc800",
   "metadata": {},
   "outputs": [
    {
     "name": "stdout",
     "output_type": "stream",
     "text": [
      "Nombre de NaN après imputation dans X_train : 0\n",
      "Nombre de NaN après imputation dans X_test : 0\n"
     ]
    }
   ],
   "source": [
    "X_train = X_train.drop(columns=['meteo_radiation_IR'])\n",
    "X_test = X_test.drop(columns=['meteo_radiation_IR'])\n",
    "\n",
    "imputer = SimpleImputer(strategy='mean')\n",
    "imputed_data = imputer.fit_transform(X_train)\n",
    "\n",
    "X_train = pd.DataFrame(imputer.fit_transform(X_train), columns=X_train.columns)\n",
    "X_test = pd.DataFrame(imputer.transform(X_test), columns=X_test.columns)\n",
    "\n",
    "# Vérifier qu'il n'y a plus de NaN après l'imputation\n",
    "print(f\"Nombre de NaN après imputation dans X_train : {X_train.isna().sum().sum()}\")\n",
    "print(f\"Nombre de NaN après imputation dans X_test : {X_test.isna().sum().sum()}\")"
   ]
  },
  {
   "cell_type": "code",
   "execution_count": 14,
   "id": "96d015ac",
   "metadata": {},
   "outputs": [],
   "source": [
    "# Modèle Extra Trees\n",
    "# model = ExtraTreesClassifier()\n",
    "# model.fit(X_train, y_train)\n",
    "\n",
    "# # Prédictions\n",
    "# y_pred = model.predict(X_test)\n",
    "# y_pred_labels = pd.Series(y_pred).map(reverse_mapping)\n",
    "# print(y_pred_labels.shape)\n",
    "\n",
    "# y_test_labels = y_test.map(reverse_mapping)\n",
    "# print(y_test_labels.shape)\n",
    "\n",
    "# # Calcul du F1-Score\n",
    "# f1 = f1_score(y_test_labels, y_pred_labels, average='weighted')\n",
    "# print(f\"F1-Score (weighted): {f1:.4f}\")"
   ]
  },
  {
   "cell_type": "code",
   "execution_count": null,
   "id": "e312e864",
   "metadata": {},
   "outputs": [],
   "source": [
    "# Initialisation du modèle Random Forest\n",
    "model = RandomForestClassifier()\n",
    "model.fit(X_train, y_train)\n",
    "\n",
    "# Prédictions\n",
    "y_pred = model.predict(X_test)\n",
    "y_pred_labels = pd.Series(y_pred).map(reverse_mapping)\n",
    "print(y_pred_labels.shape)\n",
    "\n",
    "y_test_labels = y_test.map(reverse_mapping)\n",
    "print(y_test_labels.shape)\n",
    "\n",
    "# Calcul du F1-Score\n",
    "f1 = f1_score(y_test_labels, y_pred_labels, average='weighted')\n",
    "print(f\"F1-Score (weighted): {f1:.4f}\")"
   ]
  },
  {
   "cell_type": "code",
   "execution_count": null,
   "id": "28df845a",
   "metadata": {},
   "outputs": [],
   "source": []
  }
 ],
 "metadata": {
  "kernelspec": {
   "display_name": "Python 3 (ipykernel)",
   "language": "python",
   "name": "python3"
  },
  "language_info": {
   "codemirror_mode": {
    "name": "ipython",
    "version": 3
   },
   "file_extension": ".py",
   "mimetype": "text/x-python",
   "name": "python",
   "nbconvert_exporter": "python",
   "pygments_lexer": "ipython3",
   "version": "3.10.13"
  }
 },
 "nbformat": 4,
 "nbformat_minor": 5
}
