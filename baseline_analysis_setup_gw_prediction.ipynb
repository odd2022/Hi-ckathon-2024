{
 "cells": [
  {
   "cell_type": "code",
   "execution_count": null,
   "id": "c0a33e46",
   "metadata": {
    "scrolled": true
   },
   "outputs": [
    {
     "name": "stdout",
     "output_type": "stream",
     "text": [
      "Requirement already satisfied: xgboost in /opt/conda/lib/python3.10/site-packages (2.1.3)\n",
      "Requirement already satisfied: numpy in /opt/conda/lib/python3.10/site-packages (from xgboost) (1.24.4)\n",
      "Requirement already satisfied: nvidia-nccl-cu12 in /opt/conda/lib/python3.10/site-packages (from xgboost) (2.23.4)\n",
      "Requirement already satisfied: scipy in /opt/conda/lib/python3.10/site-packages (from xgboost) (1.10.1)\n",
      "Requirement already satisfied: lightgbm in /opt/conda/lib/python3.10/site-packages (4.5.0)\n",
      "Requirement already satisfied: numpy>=1.17.0 in /opt/conda/lib/python3.10/site-packages (from lightgbm) (1.24.4)\n",
      "Requirement already satisfied: scipy in /opt/conda/lib/python3.10/site-packages (from lightgbm) (1.10.1)\n"
     ]
    }
   ],
   "source": [
    "!pip install xgboost\n",
    "!pip install lightgbm\n",
    "\n",
    "import pandas as pd\n",
    "import numpy as np\n",
    "\n",
    "# Model importation \n",
    "import xgboost as xgb\n",
    "from sklearn.ensemble import ExtraTreesClassifier\n",
    "import lightgbm as lgb\n",
    "from sklearn.ensemble import RandomForestClassifier\n",
    "\n",
    "\n",
    "# Data processing\n",
    "from sklearn.impute import SimpleImputer\n",
    "\n",
    "# Prediction scores\n",
    "from sklearn.metrics import accuracy_score\n",
    "from sklearn.metrics import f1_score\n",
    "\n",
    "# Hyper parameter tuning\n",
    "from sklearn.model_selection import RandomizedSearchCV\n",
    "\n",
    "\n",
    "pd.set_option('display.max_rows', None)\n",
    "pd.set_option('display.max_columns', None)"
   ]
  },
  {
   "cell_type": "code",
   "execution_count": 2,
   "id": "7ea01959",
   "metadata": {},
   "outputs": [],
   "source": [
    "path_train = \"~/hfactory_magic_folders/water_shortage_prediction/X_train_Hi5.csv\"\n",
    "path_test = \"~/hfactory_magic_folders/water_shortage_prediction/X_test_Hi5.csv\""
   ]
  },
  {
   "cell_type": "code",
   "execution_count": 3,
   "id": "c7a2bac7",
   "metadata": {},
   "outputs": [],
   "source": [
    "df = pd.read_csv(path_train, low_memory = False)"
   ]
  },
  {
   "cell_type": "code",
   "execution_count": null,
   "id": "72fc620c",
   "metadata": {},
   "outputs": [],
   "source": [
    "# Convert the column 'piezo_measurement_date' into datetime\n",
    "df['piezo_measurement_date'] = pd.to_datetime(df['piezo_measurement_date'])"
   ]
  },
  {
   "cell_type": "code",
   "execution_count": null,
   "id": "a5338ae4",
   "metadata": {},
   "outputs": [],
   "source": [
    "# Add memory in the important columns (for day i, add information about the day i-1)\n",
    "important_columns = [\n",
    "    'piezo_station_altitude', 'piezo_station_investigation_depth', 'meteo_evapotranspiration_grid',\n",
    "    'meteo_cloudiness_height', 'meteo_wind_speed_avg_2m', 'meteo_temperature_avg',\n",
    "    'meteo_humidity_avg', 'meteo_rain_height'\n",
    "]\n",
    "\n",
    "for column in important_columns:\n",
    "    for i in range(1, 2): #we can add memory about more days if we want \n",
    "        new_name = f'prev_{i}_{column}'  \n",
    "        df[new_name] = df[column].shift(i) "
   ]
  },
  {
   "cell_type": "code",
   "execution_count": null,
   "id": "6c8bc587",
   "metadata": {},
   "outputs": [
    {
     "data": {
      "text/plain": [
       "'\\nseuil = 0.8\\ncols_to_drop = df.columns[(df.isna().sum() / len(df)) > seuil]\\ndf.drop(columns=cols_to_drop, inplace=True)\\n'"
      ]
     },
     "execution_count": 6,
     "metadata": {},
     "output_type": "execute_result"
    }
   ],
   "source": [
    "# Dropping columns that had to much noise\n",
    "seuil = 0.8\n",
    "cols_to_drop = df.columns[(df.isna().sum() / len(df)) > seuil]\n",
    "df.drop(columns=cols_to_drop, inplace=True)"
   ]
  },
  {
   "cell_type": "code",
   "execution_count": null,
   "id": "03534e26",
   "metadata": {},
   "outputs": [],
   "source": [
    "# Define the train and test set \n",
    "data_before_2022 = df[((df['year'] == 2020) | (df['year'] == 2021))]\n",
    "\n",
    "X_train = data_before_2022[data_before_2022['piezo_measurement_date'] < '2021-06-01'] # chose data before summer \n",
    "X_train = X_train.select_dtypes(exclude = ['object']) # remove categorical data which doesn't add much to the prediction and have a lot of nans\n",
    "X_train.drop(columns = [\"piezo_measurement_date\"],inplace = True)\n",
    "\n",
    "X_test = data_before_2022[(data_before_2022['piezo_measurement_date'] >= '2021-06-01')  & (data_before_2022['piezo_measurement_date'] < '2021-10-01')] # chose the summer part \n",
    "X_test = X_test.select_dtypes(exclude=['object']) # remove categorical data which doesn't add much to the prediction and have a lot of nans\n",
    "X_test.drop(columns = [\"piezo_measurement_date\"],inplace = True)\n",
    "\n",
    "# The y vector is the level of groundwater\n",
    "y_train = data_before_2022[data_before_2022['piezo_measurement_date'] < '2021-06-01'][\"piezo_groundwater_level_category\"]\n",
    "y_test =  data_before_2022[(data_before_2022['piezo_measurement_date'] >= '2021-06-01') & (data_before_2022['piezo_measurement_date'] < '2021-10-01')][\"piezo_groundwater_level_category\"]"
   ]
  },
  {
   "cell_type": "code",
   "execution_count": null,
   "id": "6197bc9e",
   "metadata": {},
   "outputs": [],
   "source": [
    "# Map the water level into categories  \n",
    "custom_mapping = {\n",
    "    'Very Low': 0,\n",
    "    'Low': 1,\n",
    "    'Average': 2,\n",
    "    'High': 3,\n",
    "    'Very High': 4\n",
    "}\n",
    "reverse_mapping = {\n",
    "    0: 'Very Low',\n",
    "    1: 'Low',\n",
    "    2: 'Average',\n",
    "    3: 'High',\n",
    "    4: 'Very High'\n",
    "}\n",
    "\n",
    "y_train = y_train.map(custom_mapping)  \n",
    "y_test = y_test.map(custom_mapping)"
   ]
  },
  {
   "cell_type": "code",
   "execution_count": null,
   "id": "bd062f05",
   "metadata": {},
   "outputs": [],
   "source": [
    "# XGBClassifier\n",
    "model = xgb.XGBClassifier(use_label_encoder=False, eval_metric='mlogloss')\n",
    "model.fit(X_train, y_train)\n",
    "\n",
    "y_pred = model.predict(X_test)\n",
    "y_pred_labels = pd.Series(y_pred).map(reverse_mapping)\n",
    "\n",
    "y_test_labels = y_test.map(reverse_mapping)\n",
    "\n",
    "# Compute the F1 Score\n",
    "f1 = f1_score(y_test_labels, y_pred_labels, average='weighted')\n",
    "print(f\"F1-Score (weighted): {f1:.4f}\")"
   ]
  },
  {
   "cell_type": "code",
   "execution_count": null,
   "id": "aeebc800",
   "metadata": {},
   "outputs": [
    {
     "name": "stdout",
     "output_type": "stream",
     "text": [
      "Nombre de NaN après imputation dans X_train : 0\n",
      "Nombre de NaN après imputation dans X_test : 0\n"
     ]
    }
   ],
   "source": [
    "# Perform imputation for Random Forest and Extra Trees\n",
    "columns_full_nan = [col for col in X_train.columns if X_train[col].isna().all()]\n",
    "X_train = X_train.drop(columns = columns_full_nan)\n",
    "X_test = X_test.drop(columns = columns_full_nan)\n",
    "\n",
    "imputer = SimpleImputer(strategy='median')\n",
    "imputed_data = imputer.fit_transform(X_train)\n",
    "\n",
    "X_train = pd.DataFrame(imputer.fit_transform(X_train), columns=X_train.columns)\n",
    "X_test = pd.DataFrame(imputer.transform(X_test), columns=X_test.columns)"
   ]
  },
  {
   "cell_type": "code",
   "execution_count": null,
   "id": "96d015ac",
   "metadata": {},
   "outputs": [],
   "source": [
    "# Extra Trees Model\n",
    "model = ExtraTreesClassifier()\n",
    "model.fit(X_train, y_train)\n",
    "\n",
    "# Predictions\n",
    "y_pred = model.predict(X_test)\n",
    "y_pred_labels = pd.Series(y_pred).map(reverse_mapping)\n",
    "\n",
    "y_test_labels = y_test.map(reverse_mapping)\n",
    "\n",
    "f1 = f1_score(y_test_labels, y_pred_labels, average='weighted')\n",
    "print(f\"F1-Score (weighted): {f1:.4f}\")"
   ]
  },
  {
   "cell_type": "code",
   "execution_count": null,
   "id": "e312e864",
   "metadata": {},
   "outputs": [],
   "source": [
    "# Random Forest Model\n",
    "model = RandomForestClassifier()\n",
    "model.fit(X_train, y_train)\n",
    "\n",
    "# Predictions\n",
    "y_pred = model.predict(X_test)\n",
    "y_pred_labels = pd.Series(y_pred).map(reverse_mapping)\n",
    "\n",
    "y_test_labels = y_test.map(reverse_mapping)\n",
    "\n",
    "f1 = f1_score(y_test_labels, y_pred_labels, average='weighted')\n",
    "print(f\"F1-Score (weighted): {f1:.4f}\")"
   ]
  },
  {
   "cell_type": "code",
   "execution_count": null,
   "id": "28df845a",
   "metadata": {},
   "outputs": [],
   "source": [
    "#Hyperparameter tuning for Random Forest\n",
    "\n",
    "param_dist = {\n",
    "    'n_estimators': [50, 100, 200, 300, 400, 500], \n",
    "    'max_depth': [None, 10, 20, 30, 40, 50], \n",
    "    'min_samples_split': [2, 5, 10],\n",
    "    'min_samples_leaf': [1, 2, 4],  \n",
    "    'max_features': ['auto', 'sqrt', 'log2'],  \n",
    "    'bootstrap': [True, False] \n",
    "}\n",
    "\n",
    "model = RandomForestClassifier()\n",
    "\n",
    "random_search = RandomizedSearchCV(\n",
    "    estimator = model,\n",
    "    param_distributions = param_dist,\n",
    "    n_iter = 100,\n",
    "    scoring = 'f1_weighted', \n",
    "    cv = 5,  \n",
    "    verbose = 2,\n",
    "    random_state = 42,\n",
    "    n_jobs = -1  \n",
    ")\n",
    "\n",
    "random_search.fit(X_train, y_train)\n",
    "best_params = random_search.best_params_\n",
    "best_model = random_search.best_estimator_\n",
    "\n",
    "print(f\"Best Parameters: {best_params}\")\n",
    "\n",
    "# Evaluate the best model on the test set\n",
    "y_pred = best_model.predict(X_test)\n",
    "y_pred_labels = pd.Series(y_pred).map(reverse_mapping)\n",
    "y_test_labels = y_test.map(reverse_mapping)\n",
    "\n",
    "f1 = f1_score(y_test_labels, y_pred_labels, average = 'weighted')\n",
    "print(f\"F1-Score (weighted) with best model: {f1:.4f}\")"
   ]
  },
  {
   "cell_type": "code",
   "execution_count": null,
   "id": "f2b031b9",
   "metadata": {},
   "outputs": [],
   "source": [
    "#Hyperparameter tuning for XGBoost\n",
    "\n",
    "param_dist = {\n",
    "    'n_estimators': [100, 200, 300, 400, 500],  \n",
    "    'learning_rate': [0.01, 0.05, 0.1, 0.2, 0.3],  \n",
    "    'max_depth': [3, 5, 7, 9, 11],  \n",
    "    'min_child_weight': [1, 3, 5, 7],  \n",
    "    'subsample': [0.6, 0.7, 0.8, 0.9, 1.0],  \n",
    "    'colsample_bytree': [0.6, 0.7, 0.8, 0.9, 1.0],  \n",
    "    'gamma': [0, 0.1, 0.2, 0.3, 0.4],  \n",
    "    'reg_alpha': [0, 0.01, 0.1, 1, 10], \n",
    "    'reg_lambda': [1, 2, 5, 10], \n",
    "}\n",
    "\n",
    "model = xgb.XGBClassifier(use_label_encoder = False, eval_metric='mlogloss')\n",
    "\n",
    "random_search = RandomizedSearchCV(\n",
    "    estimator = model,\n",
    "    param_distributions = param_dist,\n",
    "    n_iter =  100,  \n",
    "    scoring = 'f1_weighted',  \n",
    "    cv = 5,  \n",
    "    verbose = 2,\n",
    "    random_state = 42,\n",
    "    n_jobs = -1 \n",
    ")\n",
    "\n",
    "random_search.fit(X_train, y_train)\n",
    "\n",
    "best_params = random_search.best_params_\n",
    "best_model = random_search.best_estimator_\n",
    "\n",
    "print(f\"Best Parameters: {best_params}\")\n",
    "\n",
    "# Evaluate the best model on the test set\n",
    "y_pred = best_model.predict(X_test)\n",
    "y_pred_labels = pd.Series(y_pred).map(reverse_mapping)\n",
    "y_test_labels = y_test.map(reverse_mapping)\n",
    "\n",
    "f1 = f1_score(y_test_labels, y_pred_labels, average='weighted')\n",
    "print(f\"F1-Score (weighted) with best model: {f1:.4f}\")"
   ]
  }
 ],
 "metadata": {
  "kernelspec": {
   "display_name": "Python 3 (ipykernel)",
   "language": "python",
   "name": "python3"
  },
  "language_info": {
   "codemirror_mode": {
    "name": "ipython",
    "version": 3
   },
   "file_extension": ".py",
   "mimetype": "text/x-python",
   "name": "python",
   "nbconvert_exporter": "python",
   "pygments_lexer": "ipython3",
   "version": "3.10.13"
  }
 },
 "nbformat": 4,
 "nbformat_minor": 5
}
